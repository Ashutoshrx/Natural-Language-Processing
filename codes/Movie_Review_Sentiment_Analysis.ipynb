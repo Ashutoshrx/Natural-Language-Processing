{
  "nbformat": 4,
  "nbformat_minor": 0,
  "metadata": {
    "colab": {
      "name": "Movie Review Sentiment Analysis",
      "provenance": [],
      "collapsed_sections": []
    },
    "kernelspec": {
      "name": "python3",
      "display_name": "Python 3"
    }
  },
  "cells": [
    {
      "cell_type": "code",
      "metadata": {
        "id": "jhV0bsI6RSZO"
      },
      "source": [
        "#https://towardsdatascience.com/multi-class-text-classification-with-scikit-learn-12f1e60e0a9f\r\n",
        "path=\"https://raw.githubusercontent.com/Ashutoshrx/Natural-Language-Processing/main/data/train.tsv\"\r\n"
      ],
      "execution_count": 29,
      "outputs": []
    },
    {
      "cell_type": "code",
      "metadata": {
        "id": "kZP5BUAIRUKD"
      },
      "source": [
        "import numpy as np\r\n",
        "import pandas as pd\r\n",
        "import re\r\n",
        "import string\r\n",
        "import nltk\r\n",
        "pd.set_option('display.max_colwidth',100)\r\n",
        "from nltk.corpus import stopwords\r\n",
        "ln=nltk.WordNetLemmatizer()\r\n",
        "ps=nltk.PorterStemmer()"
      ],
      "execution_count": 30,
      "outputs": []
    },
    {
      "cell_type": "code",
      "metadata": {
        "colab": {
          "base_uri": "https://localhost:8080/",
          "height": 235
        },
        "id": "h7v0TBO_RVgY",
        "outputId": "f44a7d0e-f440-4ee7-de0d-f9736e8815af"
      },
      "source": [
        "df=pd.read_csv(path, sep='\\t', header=0)\r\n",
        "df.head()"
      ],
      "execution_count": 31,
      "outputs": [
        {
          "output_type": "stream",
          "text": [
            "/usr/local/lib/python3.7/dist-packages/IPython/core/interactiveshell.py:2718: DtypeWarning: Columns (4,5,6,7) have mixed types.Specify dtype option on import or set low_memory=False.\n",
            "  interactivity=interactivity, compiler=compiler, result=result)\n"
          ],
          "name": "stderr"
        },
        {
          "output_type": "execute_result",
          "data": {
            "text/html": [
              "<div>\n",
              "<style scoped>\n",
              "    .dataframe tbody tr th:only-of-type {\n",
              "        vertical-align: middle;\n",
              "    }\n",
              "\n",
              "    .dataframe tbody tr th {\n",
              "        vertical-align: top;\n",
              "    }\n",
              "\n",
              "    .dataframe thead th {\n",
              "        text-align: right;\n",
              "    }\n",
              "</style>\n",
              "<table border=\"1\" class=\"dataframe\">\n",
              "  <thead>\n",
              "    <tr style=\"text-align: right;\">\n",
              "      <th></th>\n",
              "      <th>PhraseId</th>\n",
              "      <th>SentenceId</th>\n",
              "      <th>Phrase</th>\n",
              "      <th>Sentiment</th>\n",
              "      <th>Unnamed: 4</th>\n",
              "      <th>Unnamed: 5</th>\n",
              "      <th>Unnamed: 6</th>\n",
              "      <th>Unnamed: 7</th>\n",
              "      <th>Unnamed: 8</th>\n",
              "    </tr>\n",
              "  </thead>\n",
              "  <tbody>\n",
              "    <tr>\n",
              "      <th>0</th>\n",
              "      <td>1</td>\n",
              "      <td>1</td>\n",
              "      <td>A series of escapades demonstrating the adage that what is good for the goose is also good for t...</td>\n",
              "      <td>1</td>\n",
              "      <td>NaN</td>\n",
              "      <td>NaN</td>\n",
              "      <td>NaN</td>\n",
              "      <td>NaN</td>\n",
              "      <td>NaN</td>\n",
              "    </tr>\n",
              "    <tr>\n",
              "      <th>1</th>\n",
              "      <td>2</td>\n",
              "      <td>1</td>\n",
              "      <td>A series of escapades demonstrating the adage that what is good for the goose</td>\n",
              "      <td>2</td>\n",
              "      <td>NaN</td>\n",
              "      <td>NaN</td>\n",
              "      <td>NaN</td>\n",
              "      <td>NaN</td>\n",
              "      <td>NaN</td>\n",
              "    </tr>\n",
              "    <tr>\n",
              "      <th>2</th>\n",
              "      <td>3</td>\n",
              "      <td>1</td>\n",
              "      <td>A series</td>\n",
              "      <td>2</td>\n",
              "      <td>NaN</td>\n",
              "      <td>NaN</td>\n",
              "      <td>NaN</td>\n",
              "      <td>NaN</td>\n",
              "      <td>NaN</td>\n",
              "    </tr>\n",
              "    <tr>\n",
              "      <th>3</th>\n",
              "      <td>4</td>\n",
              "      <td>1</td>\n",
              "      <td>A</td>\n",
              "      <td>2</td>\n",
              "      <td>NaN</td>\n",
              "      <td>NaN</td>\n",
              "      <td>NaN</td>\n",
              "      <td>NaN</td>\n",
              "      <td>NaN</td>\n",
              "    </tr>\n",
              "    <tr>\n",
              "      <th>4</th>\n",
              "      <td>5</td>\n",
              "      <td>1</td>\n",
              "      <td>series</td>\n",
              "      <td>2</td>\n",
              "      <td>NaN</td>\n",
              "      <td>NaN</td>\n",
              "      <td>NaN</td>\n",
              "      <td>NaN</td>\n",
              "      <td>NaN</td>\n",
              "    </tr>\n",
              "  </tbody>\n",
              "</table>\n",
              "</div>"
            ],
            "text/plain": [
              "   PhraseId  SentenceId  ... Unnamed: 7 Unnamed: 8\n",
              "0         1           1  ...        NaN        NaN\n",
              "1         2           1  ...        NaN        NaN\n",
              "2         3           1  ...        NaN        NaN\n",
              "3         4           1  ...        NaN        NaN\n",
              "4         5           1  ...        NaN        NaN\n",
              "\n",
              "[5 rows x 9 columns]"
            ]
          },
          "metadata": {
            "tags": []
          },
          "execution_count": 31
        }
      ]
    },
    {
      "cell_type": "code",
      "metadata": {
        "id": "mPN_lWZ7RXcH"
      },
      "source": [
        "df=df.drop(['Unnamed: 4', 'Unnamed: 5', 'Unnamed: 6', 'Unnamed: 7', 'Unnamed: 8','PhraseId','SentenceId'],axis=1)"
      ],
      "execution_count": 32,
      "outputs": []
    },
    {
      "cell_type": "code",
      "metadata": {
        "colab": {
          "base_uri": "https://localhost:8080/"
        },
        "id": "QsfZc-UYVnia",
        "outputId": "09b1b65f-dc21-43e1-f948-67c8155b7e3e"
      },
      "source": [
        "df.shape"
      ],
      "execution_count": 33,
      "outputs": [
        {
          "output_type": "execute_result",
          "data": {
            "text/plain": [
              "(156060, 2)"
            ]
          },
          "metadata": {
            "tags": []
          },
          "execution_count": 33
        }
      ]
    },
    {
      "cell_type": "code",
      "metadata": {
        "id": "IVk1Wh12VhEm"
      },
      "source": [
        "df=df.iloc[:1000,]"
      ],
      "execution_count": 34,
      "outputs": []
    },
    {
      "cell_type": "code",
      "metadata": {
        "colab": {
          "base_uri": "https://localhost:8080/"
        },
        "id": "xXWMM8E4Vqub",
        "outputId": "6d89ce21-3071-4de9-ff68-2ec8a6d062d5"
      },
      "source": [
        "df.shape"
      ],
      "execution_count": 35,
      "outputs": [
        {
          "output_type": "execute_result",
          "data": {
            "text/plain": [
              "(1000, 2)"
            ]
          },
          "metadata": {
            "tags": []
          },
          "execution_count": 35
        }
      ]
    },
    {
      "cell_type": "code",
      "metadata": {
        "colab": {
          "base_uri": "https://localhost:8080/"
        },
        "id": "NiIineJXSbTp",
        "outputId": "d706a76e-dffe-4acb-cfbf-a2ed63fcb595"
      },
      "source": [
        "#removing rows having null values\r\n",
        "df=df.dropna(axis=0)\r\n",
        "print(df.isna().sum())"
      ],
      "execution_count": 36,
      "outputs": [
        {
          "output_type": "stream",
          "text": [
            "Phrase       0\n",
            "Sentiment    0\n",
            "dtype: int64\n"
          ],
          "name": "stdout"
        }
      ]
    },
    {
      "cell_type": "code",
      "metadata": {
        "colab": {
          "base_uri": "https://localhost:8080/",
          "height": 198
        },
        "id": "zMKWBpLMZSOy",
        "outputId": "3f7b52ed-85cc-4b23-8ccd-19277482db75"
      },
      "source": [
        "from io import StringIO\r\n",
        "col = ['Sentiment', 'Phrase']\r\n",
        "df = df[col]\r\n",
        "df = df[pd.notnull(df['Phrase'])]\r\n",
        "df.columns = ['Sentiment', 'Phase']\r\n",
        "df['category_id'] = df['Sentiment'].factorize()[0]\r\n",
        "category_id_df = df[['Sentiment', 'category_id']].drop_duplicates().sort_values('category_id')\r\n",
        "category_to_id = dict(category_id_df.values)\r\n",
        "id_to_category = dict(category_id_df[['category_id', 'Sentiment']].values)\r\n",
        "df.head()"
      ],
      "execution_count": 37,
      "outputs": [
        {
          "output_type": "execute_result",
          "data": {
            "text/html": [
              "<div>\n",
              "<style scoped>\n",
              "    .dataframe tbody tr th:only-of-type {\n",
              "        vertical-align: middle;\n",
              "    }\n",
              "\n",
              "    .dataframe tbody tr th {\n",
              "        vertical-align: top;\n",
              "    }\n",
              "\n",
              "    .dataframe thead th {\n",
              "        text-align: right;\n",
              "    }\n",
              "</style>\n",
              "<table border=\"1\" class=\"dataframe\">\n",
              "  <thead>\n",
              "    <tr style=\"text-align: right;\">\n",
              "      <th></th>\n",
              "      <th>Sentiment</th>\n",
              "      <th>Phase</th>\n",
              "      <th>category_id</th>\n",
              "    </tr>\n",
              "  </thead>\n",
              "  <tbody>\n",
              "    <tr>\n",
              "      <th>0</th>\n",
              "      <td>1</td>\n",
              "      <td>A series of escapades demonstrating the adage that what is good for the goose is also good for t...</td>\n",
              "      <td>0</td>\n",
              "    </tr>\n",
              "    <tr>\n",
              "      <th>1</th>\n",
              "      <td>2</td>\n",
              "      <td>A series of escapades demonstrating the adage that what is good for the goose</td>\n",
              "      <td>1</td>\n",
              "    </tr>\n",
              "    <tr>\n",
              "      <th>2</th>\n",
              "      <td>2</td>\n",
              "      <td>A series</td>\n",
              "      <td>1</td>\n",
              "    </tr>\n",
              "    <tr>\n",
              "      <th>3</th>\n",
              "      <td>2</td>\n",
              "      <td>A</td>\n",
              "      <td>1</td>\n",
              "    </tr>\n",
              "    <tr>\n",
              "      <th>4</th>\n",
              "      <td>2</td>\n",
              "      <td>series</td>\n",
              "      <td>1</td>\n",
              "    </tr>\n",
              "  </tbody>\n",
              "</table>\n",
              "</div>"
            ],
            "text/plain": [
              "  Sentiment  ... category_id\n",
              "0         1  ...           0\n",
              "1         2  ...           1\n",
              "2         2  ...           1\n",
              "3         2  ...           1\n",
              "4         2  ...           1\n",
              "\n",
              "[5 rows x 3 columns]"
            ]
          },
          "metadata": {
            "tags": []
          },
          "execution_count": 37
        }
      ]
    },
    {
      "cell_type": "code",
      "metadata": {
        "id": "DjiltLo1Rotw",
        "colab": {
          "base_uri": "https://localhost:8080/"
        },
        "outputId": "5c7b0bad-ff86-4c26-8374-b701a00245ec"
      },
      "source": [
        "from sklearn.feature_extraction.text import TfidfVectorizer\r\n",
        "tfidf = TfidfVectorizer(sublinear_tf=True, min_df=5, norm='l2', encoding='latin-1', ngram_range=(1, 2), stop_words='english')\r\n",
        "features = tfidf.fit_transform(df.Phase).toarray()\r\n",
        "labels = df.Sentiment\r\n",
        "features.shape"
      ],
      "execution_count": 38,
      "outputs": [
        {
          "output_type": "execute_result",
          "data": {
            "text/plain": [
              "(1000, 436)"
            ]
          },
          "metadata": {
            "tags": []
          },
          "execution_count": 38
        }
      ]
    },
    {
      "cell_type": "code",
      "metadata": {
        "id": "ojxY91UfSA_I",
        "colab": {
          "base_uri": "https://localhost:8080/"
        },
        "outputId": "8451c235-21a0-4a41-e0f0-2e8431a5a2c4"
      },
      "source": [
        "from sklearn.feature_selection import chi2\r\n",
        "import numpy as np\r\n",
        "N = 2\r\n",
        "for Product, category_id in sorted(category_to_id.items()):\r\n",
        "  features_chi2 = chi2(features, labels == category_id)\r\n",
        "  indices = np.argsort(features_chi2[0])\r\n",
        "  feature_names = np.array(tfidf.get_feature_names())[indices]\r\n",
        "  unigrams = [v for v in feature_names if len(v.split(' ')) == 1]\r\n",
        "  bigrams = [v for v in feature_names if len(v.split(' ')) == 2]\r\n",
        "  print(\"# '{}':\".format(Product))\r\n",
        "  print(\"  . Most correlated unigrams:\\n. {}\".format('\\n. '.join(unigrams[-N:])))\r\n",
        "  print(\"  . Most correlated bigrams:\\n. {}\".format('\\n. '.join(bigrams[-N:])))"
      ],
      "execution_count": 39,
      "outputs": [
        {
          "output_type": "stream",
          "text": [
            "# '0':\n",
            "  . Most correlated unigrams:\n",
            ". forces\n",
            ". glacial\n",
            "  . Most correlated bigrams:\n",
            ". frothing ex\n",
            ". youth remain\n",
            "# '1':\n",
            "  . Most correlated unigrams:\n",
            ". forces\n",
            ". glacial\n",
            "  . Most correlated bigrams:\n",
            ". frothing ex\n",
            ". youth remain\n",
            "# '2':\n",
            "  . Most correlated unigrams:\n",
            ". forces\n",
            ". glacial\n",
            "  . Most correlated bigrams:\n",
            ". frothing ex\n",
            ". youth remain\n",
            "# '3':\n",
            "  . Most correlated unigrams:\n",
            ". forces\n",
            ". glacial\n",
            "  . Most correlated bigrams:\n",
            ". frothing ex\n",
            ". youth remain\n",
            "# '4':\n",
            "  . Most correlated unigrams:\n",
            ". forces\n",
            ". glacial\n",
            "  . Most correlated bigrams:\n",
            ". frothing ex\n",
            ". youth remain\n"
          ],
          "name": "stdout"
        }
      ]
    },
    {
      "cell_type": "code",
      "metadata": {
        "id": "LTr_wObAWI7G",
        "colab": {
          "base_uri": "https://localhost:8080/",
          "height": 387
        },
        "outputId": "475dabe9-48d1-49f2-cd76-9168011283a8"
      },
      "source": [
        "import matplotlib.pyplot as plt\r\n",
        "fig = plt.figure(figsize=(8,6))\r\n",
        "df.groupby('Sentiment').Phase.count().plot.bar(ylim=0)\r\n",
        "plt.show()"
      ],
      "execution_count": 40,
      "outputs": [
        {
          "output_type": "display_data",
          "data": {
            "image/png": "[encoded data removed]",
            "text/plain": [
              "<Figure size 576x432 with 1 Axes>"
            ]
          },
          "metadata": {
            "tags": [],
            "needs_background": "light"
          }
        }
      ]
    },
    {
      "cell_type": "markdown",
      "metadata": {
        "id": "No2RT-MoaPPG"
      },
      "source": [
        "# **Naive Bayes**"
      ]
    },
    {
      "cell_type": "code",
      "metadata": {
        "id": "nmKZvCRbaFfi"
      },
      "source": [
        "from sklearn.model_selection import train_test_split\r\n",
        "from sklearn.feature_extraction.text import CountVectorizer\r\n",
        "from sklearn.feature_extraction.text import TfidfTransformer\r\n",
        "from sklearn.naive_bayes import MultinomialNB\r\n",
        "X_train, X_test, y_train, y_test = train_test_split(df['Phase'], df['Sentiment'], random_state = 0)\r\n",
        "count_vect = CountVectorizer()\r\n",
        "X_train_counts = count_vect.fit_transform(X_train)\r\n",
        "tfidf_transformer = TfidfTransformer()\r\n",
        "X_train_tfidf = tfidf_transformer.fit_transform(X_train_counts)\r\n",
        "clf = MultinomialNB().fit(X_train_tfidf, y_train)"
      ],
      "execution_count": 41,
      "outputs": []
    },
    {
      "cell_type": "code",
      "metadata": {
        "colab": {
          "base_uri": "https://localhost:8080/"
        },
        "id": "8Ih2YPb3aW9P",
        "outputId": "f1777b31-fc7f-4ab7-8d70-df75f5a2ebea"
      },
      "source": [
        "#Evaluating the model\r\n",
        "from sklearn.metrics import classification_report,confusion_matrix, accuracy_score\r\n",
        "pred_nv = clf.predict(count_vect.transform(X_test))\r\n",
        "#print(classification_report(y_test ,pred))\r\n",
        "print('Confusion Matrix: \\n', confusion_matrix(y_test,pred_nv))\r\n",
        "print()\r\n",
        "print('Naive Bayes accuracy score in %: ', accuracy_score(y_test,pred_nv)*100)"
      ],
      "execution_count": 42,
      "outputs": [
        {
          "output_type": "stream",
          "text": [
            "Confusion Matrix: \n",
            " [[  0   4   1   0   0]\n",
            " [  0  12  22   0   0]\n",
            " [  0   8 168   2   0]\n",
            " [  0   1  16   9   1]\n",
            " [  0   0   5   1   0]]\n",
            "\n",
            "Naive Bayes accuracy score in %:  75.6\n"
          ],
          "name": "stdout"
        }
      ]
    },
    {
      "cell_type": "markdown",
      "metadata": {
        "id": "oaNGT1fYa3iN"
      },
      "source": [
        "# **Random Forest**"
      ]
    },
    {
      "cell_type": "code",
      "metadata": {
        "colab": {
          "base_uri": "https://localhost:8080/"
        },
        "id": "ngz41cjUat1Z",
        "outputId": "60ed56ed-0c32-417f-c894-9f6236d0dc79"
      },
      "source": [
        "from sklearn.ensemble import RandomForestRegressor\r\n",
        "from sklearn.metrics import classification_report,confusion_matrix, accuracy_score\r\n",
        "# Instantiate model with 1000 decision trees\r\n",
        "rf = RandomForestRegressor(n_estimators = 500, random_state = 42)\r\n",
        "rf.fit(X_train_tfidf, y_train)"
      ],
      "execution_count": 43,
      "outputs": [
        {
          "output_type": "execute_result",
          "data": {
            "text/plain": [
              "RandomForestRegressor(bootstrap=True, ccp_alpha=0.0, criterion='mse',\n",
              "                      max_depth=None, max_features='auto', max_leaf_nodes=None,\n",
              "                      max_samples=None, min_impurity_decrease=0.0,\n",
              "                      min_impurity_split=None, min_samples_leaf=1,\n",
              "                      min_samples_split=2, min_weight_fraction_leaf=0.0,\n",
              "                      n_estimators=500, n_jobs=None, oob_score=False,\n",
              "                      random_state=42, verbose=0, warm_start=False)"
            ]
          },
          "metadata": {
            "tags": []
          },
          "execution_count": 43
        }
      ]
    },
    {
      "cell_type": "code",
      "metadata": {
        "colab": {
          "base_uri": "https://localhost:8080/"
        },
        "id": "uw-hD_kSbFco",
        "outputId": "5052e1a9-96ab-4d0b-a5cc-47f9622edcd1"
      },
      "source": [
        "#Evaluating the model\r\n",
        "from sklearn.metrics import classification_report,confusion_matrix, accuracy_score\r\n",
        "pred_rf = clf.predict(count_vect.transform(X_test))\r\n",
        "#print(classification_report(y_test ,pred))\r\n",
        "print('Confusion Matrix: \\n', confusion_matrix(y_test,pred_rf))\r\n",
        "print()\r\n",
        "print('Random Forest accuracy score in %: ', accuracy_score(y_test,pred_rf)*100)"
      ],
      "execution_count": 44,
      "outputs": [
        {
          "output_type": "stream",
          "text": [
            "Confusion Matrix: \n",
            " [[  0   4   1   0   0]\n",
            " [  0  12  22   0   0]\n",
            " [  0   8 168   2   0]\n",
            " [  0   1  16   9   1]\n",
            " [  0   0   5   1   0]]\n",
            "\n",
            "Random Forest accuracy score in %:  75.6\n"
          ],
          "name": "stdout"
        }
      ]
    },
    {
      "cell_type": "markdown",
      "metadata": {
        "id": "izDHbiBibk1q"
      },
      "source": [
        "# **SVM**"
      ]
    },
    {
      "cell_type": "code",
      "metadata": {
        "colab": {
          "base_uri": "https://localhost:8080/"
        },
        "id": "3imhXCnnbNUC",
        "outputId": "e605a4e2-5ac1-40a1-81ca-c4c80870ea10"
      },
      "source": [
        "# Classifier - Algorithm - SVM\r\n",
        "# fit the training dataset on the classifier\r\n",
        "from sklearn import svm\r\n",
        "SVM = svm.SVC(C=1.0, kernel='linear', degree=3, gamma='auto')\r\n",
        "SVM.fit(X_train_tfidf,y_train)\r\n",
        "# predict the labels on validation dataset\r\n",
        "predictions_SVM = SVM.predict(count_vect.transform(X_test))\r\n",
        "# Use accuracy_score function to get the accuracy\r\n",
        "print(\"SVM Accuracy Score -> \",accuracy_score(predictions_SVM, y_test)*100)"
      ],
      "execution_count": 45,
      "outputs": [
        {
          "output_type": "stream",
          "text": [
            "SVM Accuracy Score ->  73.2\n"
          ],
          "name": "stdout"
        }
      ]
    },
    {
      "cell_type": "markdown",
      "metadata": {
        "id": "PH0ZcdEZcdUc"
      },
      "source": [
        "# **Logistic Regression**"
      ]
    },
    {
      "cell_type": "code",
      "metadata": {
        "colab": {
          "base_uri": "https://localhost:8080/"
        },
        "id": "Dw7H1xuZcF1U",
        "outputId": "0d172b20-3dea-47b6-f1c5-69274fe96df5"
      },
      "source": [
        "from sklearn.linear_model import LogisticRegression\r\n",
        "logreg = LogisticRegression()\r\n",
        "logreg.fit(X_train_tfidf, y_train)"
      ],
      "execution_count": 46,
      "outputs": [
        {
          "output_type": "execute_result",
          "data": {
            "text/plain": [
              "LogisticRegression(C=1.0, class_weight=None, dual=False, fit_intercept=True,\n",
              "                   intercept_scaling=1, l1_ratio=None, max_iter=100,\n",
              "                   multi_class='auto', n_jobs=None, penalty='l2',\n",
              "                   random_state=None, solver='lbfgs', tol=0.0001, verbose=0,\n",
              "                   warm_start=False)"
            ]
          },
          "metadata": {
            "tags": []
          },
          "execution_count": 46
        }
      ]
    },
    {
      "cell_type": "code",
      "metadata": {
        "colab": {
          "base_uri": "https://localhost:8080/"
        },
        "id": "1eHbZyiEdEJ3",
        "outputId": "8b07050b-ed9b-4587-bb02-bcda52108bd1"
      },
      "source": [
        "y_pred_lr = logreg.predict(count_vect.transform(X_test))\r\n",
        "print(\"Logistic Regression Accuracy Score -> \",accuracy_score(y_pred_lr, y_test)*100)"
      ],
      "execution_count": 47,
      "outputs": [
        {
          "output_type": "stream",
          "text": [
            "Logistic Regression Accuracy Score ->  69.19999999999999\n"
          ],
          "name": "stdout"
        }
      ]
    },
    {
      "cell_type": "code",
      "metadata": {
        "id": "IW1C6hrUdfQD"
      },
      "source": [
        ""
      ],
      "execution_count": 47,
      "outputs": []
    }
  ]
}